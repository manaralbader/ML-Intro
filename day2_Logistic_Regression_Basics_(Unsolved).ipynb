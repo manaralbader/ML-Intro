{
  "cells": [
    {
      "cell_type": "markdown",
      "metadata": {
        "id": "view-in-github",
        "colab_type": "text"
      },
      "source": [
        "<a href=\"https://colab.research.google.com/github/manaralbader/ML-Intro/blob/main/day2_Logistic_Regression_Basics_(Unsolved).ipynb\" target=\"_parent\"><img src=\"https://colab.research.google.com/assets/colab-badge.svg\" alt=\"Open In Colab\"/></a>"
      ]
    },
    {
      "cell_type": "markdown",
      "metadata": {
        "id": "rPhaTwax2ycm"
      },
      "source": [
        "<a id=\"Notebook-Overview\"></a>\n",
        "# Notebook Overview\n",
        "This notebook provides an introduction to Logistic Regression, a foundational statistical method used for binary classification tasks. The goal is to understand the mathematical concepts, implementation details, and practical applications of Logistic Regression in data science and machine learning. By the end of this notebook, you will have hands-on experience with implementing Logistic Regression from scratch and using libraries like `scikit-learn`.\n",
        "\n",
        "## Contents of this Notebook\n",
        "- Overview of Logistic Regression\n",
        "- Mathematical foundations\n",
        "- Implementing Logistic Regression from scratch\n",
        "- Using `scikit-learn` for Logistic Regression\n",
        "- Model evaluation and metrics\n",
        "- Practical examples and exercises"
      ]
    },
    {
      "cell_type": "markdown",
      "metadata": {
        "id": "njWbsylp2yco"
      },
      "source": [
        "## Table of contents\n",
        "- [Notebook Overview](#notebook-overview)\n",
        "  - [Contents of this Notebook](#contents-of-this-notebook)\n",
        "- [Installation of Required Libraries](#installation-of-required-libraries)\n",
        "- [Importing Libraries](#importing-libraries)\n",
        "  - [Implementing Logistic Regression from Scratch](#implementing-logistic-regression-from-scratch)\n",
        "- [Custom Dataset for Logistic Regression](#custom-dataset-for-logistic-regression)\n",
        "    - [Overview:](#overview:)\n",
        "  - [Adding Intercept Column for Logistic Regression](#adding-intercept-column-for-logistic-regression)\n",
        "    - [Purpose:](#purpose:)\n",
        "  - [Running Optimization for Logistic Regression](#running-optimization-for-logistic-regression)\n",
        "  - [Evaluating Model Accuracy](#evaluating-model-accuracy)\n",
        "  - [Visualizing Model Predictions](#visualizing-model-predictions)\n",
        "    - [Understanding the Confusion Matrix](#understanding-the-confusion-matrix)\n",
        "  - [Sklearn Implementation](#sklearn-implementation)\n",
        "    - [About the Iris Dataset](#about-the-iris-dataset)\n",
        "    - [Train-Test Split](#train-test-split)\n",
        "    - [Explanation of `train_test_split`](#explanation-of-`train_test_split`)\n",
        "      - [Key Parameters of `train_test_split`:](#key-parameters-of-`train_test_split`:)\n",
        "    - [Training the Logistic Regression Model](#training-the-logistic-regression-model)\n",
        "      - [Steps:](#steps:)\n",
        "      - [Key Points:](#key-points:)"
      ]
    },
    {
      "cell_type": "markdown",
      "metadata": {
        "id": "Nt93Yvj82ycp"
      },
      "source": [
        "---\n",
        "\n",
        "<a id=\"Installation-Libraries\"></a>\n",
        "# Installation of Required Libraries\n",
        "To run the code in this notebook, ensure you have the following libraries installed:\n",
        "\n",
        "- `numpy`: A library for numerical computations, providing support for arrays and mathematical operations.\n",
        "- `matplotlib`: A plotting library for creating static, interactive, and animated visualizations in Python.\n",
        "- `scikit-learn`: A library for machine learning, offering simple and efficient tools for data analysis and modeling.\n",
        "- `tqdm`: A library for creating progress bars to monitor the execution of loops and tasks.\n",
        "\n",
        "These libraries are essential for data manipulation, visualization, and machine learning."
      ]
    },
    {
      "cell_type": "code",
      "execution_count": 13,
      "metadata": {
        "id": "KNtVxalK2ycq"
      },
      "outputs": [],
      "source": [
        "# Install necessary libraries\n",
        "\n",
        "## Uncomment the following lines if running in a new environment\n",
        "%pip install numpy\n",
        "%pip install scikit-learn\n",
        "%pip install matplotlib\n",
        "%pip install tqdm\n",
        "\n",
        "from IPython.display import clear_output  # Clears notebook output for a clean interface\n",
        "clear_output()  # Clears the output to avoid clutter."
      ]
    },
    {
      "cell_type": "markdown",
      "metadata": {
        "id": "d1L3q3yr2ycr"
      },
      "source": [
        "<a id=\"Import-Libraries\"></a>\n",
        "# Importing Libraries\n",
        "This code imports essential libraries for:\n",
        "- **Math operations**: `math`, `numpy`\n",
        "- **Visualization**: `matplotlib.pyplot`\n",
        "- **Progress tracking**: `tqdm`\n",
        "- **Machine Learning**: `scikit-learn` (for dataset loading, model training, evaluation)"
      ]
    },
    {
      "cell_type": "code",
      "execution_count": 14,
      "metadata": {
        "id": "Y3p224jCZANd"
      },
      "outputs": [],
      "source": [
        "import math  # for mathematical operations\n",
        "from copy import deepcopy  # for copying objects\n",
        "\n",
        "import numpy as np  # for numerical operations\n",
        "import matplotlib.pyplot as plt  # for plotting graphs\n",
        "\n",
        "from tqdm import tqdm  # for tracking progress of loops\n",
        "\n",
        "from sklearn.linear_model import LogisticRegression  # for logistic regression model\n",
        "from sklearn.datasets import load_iris  # for loading the iris dataset for classification task\n",
        "from sklearn.model_selection import train_test_split  # for splitting the dataset into training and testing sets\n",
        "from sklearn.metrics import confusion_matrix  # for calculating confusion matrix for classification task"
      ]
    },
    {
      "cell_type": "markdown",
      "metadata": {
        "id": "ztlkgcooZj9h"
      },
      "source": [
        "## Implementing Logistic Regression from Scratch"
      ]
    },
    {
      "cell_type": "markdown",
      "metadata": {
        "id": "1h7gzReVbKZU"
      },
      "source": [
        "Before we get to coding, Here's are the equations for logistic regression cost function (cross-entropy) and sigmoid function\n",
        "</br></br>\n",
        "\n",
        "Cost function:\n",
        "\n",
        "$$\n",
        "Cross\\_Entropy\\_Loss = -\\left( y \\log(\\hat{y}) + (1 - y) \\log(1 - \\hat{y}) \\right)\n",
        "$$\n",
        "\n",
        "</br></br>\n",
        "Sigmoid:\n",
        "\n",
        "$$\n",
        "\\sigma(z) = \\frac{1}{1 + e^{-z}}\n",
        "$$"
      ]
    },
    {
      "cell_type": "code",
      "execution_count": 15,
      "metadata": {
        "id": "brsnENtgV_BP"
      },
      "outputs": [],
      "source": [
        "def sigmoid(z):\n",
        "    \"\"\"\n",
        "    Apply the sigmoid function to map values into the range (0, 1).\n",
        "    \"\"\"\n",
        "    #hint: 1 / (1 + e^(-z)) , you can use np.exp(value) to get e^(value)\n",
        "    return 1/(1+np.exp(-z))\n",
        "\n",
        "\n",
        "def log_reg_cost(y, y_pred, epsilon=1e-15):  # cross entropy\n",
        "    \"\"\"\n",
        "    Calculates and returns the cost for logistic regression.\n",
        "\n",
        "    Function is slightly different from mentioned above because this one handles batched/vector/multiple inputs (rather than just one).\n",
        "    This function sums and takes average across the vector.\n",
        "\n",
        "    Args:\n",
        "        y (array): True labels (0 or 1).\n",
        "        y_pred (array): Predicted probabilities (0 to 1).\n",
        "\n",
        "    Returns:\n",
        "        float: Average cost.\n",
        "    \"\"\"\n",
        "    # Clip predictions to avoid log(0) errors\n",
        "    y_pred = np.clip(y_pred, epsilon, 1 - epsilon)\n",
        "    num_samples = len(y) # number of samples in the dataset (length of y)\n",
        "\n",
        "    # Calculate the cost (cross-entropy loss)\n",
        "    # the formula for BCE Loss\n",
        "    # Hint: -1/m * sum(y log(y_hat) + (1 - y) log(1- y_hat))\n",
        "    cost = -1/num_samples * np.sum(y * np.log(y_pred) + (1 - y) * np.log(1 - y_pred)) # when clipping is not granted to be done\n",
        "    return cost\n",
        "\n",
        "\n",
        "def log_reg_gradient_descent(X, y, learning_rate, n_iters=500):\n",
        "    \"\"\"\n",
        "    Runs gradient descent (param optimization) for logistic regression and returns optimized weights.\n",
        "\n",
        "    Args:\n",
        "        X (array): Feature matrix (num_samples x num_features).\n",
        "        y (array): Labels (0 or 1).\n",
        "        learning_rate (float): Step size for updates.\n",
        "        n_iters (int): Number of iterations.\n",
        "\n",
        "    Returns:\n",
        "        array: Optimized weights.\n",
        "    \"\"\"\n",
        "    num_samples, num_features = X.shape\n",
        "    weights = np.zeros(num_features)  # Initialize weights to zeros\n",
        "\n",
        "    losses = [] # Track loss values over iterations\n",
        "\n",
        "    for _ in tqdm(range(n_iters)): # Loop through the number of iterations\n",
        "\n",
        "        # Predict using current weights\n",
        "        z = np.dot(X, weights)\n",
        "        y_pred = sigmoid(z)\n",
        "\n",
        "        # Compute gradient and update weights\n",
        "        gradient = np.dot(X.T, (y_pred - y)) / num_samples\n",
        "        #apply gradient descent weights_n_1 = weitghts_n - gradient * lr\n",
        "        weights -= gradient * learning_rate # Update weights using gradient descent\n",
        "\n",
        "        # Record cost for analysis\n",
        "        # calculate the loss\n",
        "        loss = log_reg_cost(y, y_pred) # Calculate loss using current weights\n",
        "        losses.append(loss) # Append loss to losses list for tracking\n",
        "\n",
        "    # Plot the loss curve\n",
        "    plt.plot(losses)\n",
        "    plt.xlabel(\"Iterations\")\n",
        "    plt.ylabel(\"Cost\")\n",
        "    plt.title(\"Cost Reduction Over Iterations\")\n",
        "    plt.show()\n",
        "\n",
        "    return weights"
      ]
    },
    {
      "cell_type": "markdown",
      "metadata": {
        "id": "J61YlIMd2ycs"
      },
      "source": [
        "# Custom Dataset for Logistic Regression\n",
        "\n",
        "### Overview:\n",
        "1. **Generate Random Points**:\n",
        "   - 400 points scaled to a max value of 100.\n",
        "\n",
        "2. **Define Boundary**:\n",
        "   - A sinusoidal curve separates two classes.\n",
        "\n",
        "3. **Assign Labels**:\n",
        "   - `Class 1` (label = 1): Points above the boundary.\n",
        "   - `Class 0` (label = 0): Points below the boundary.\n",
        "\n",
        "4. **Visualize**:\n",
        "   - Red: Class 1\n",
        "   - Blue: Class 0\n",
        "   - Curve: Decision boundary"
      ]
    },
    {
      "cell_type": "code",
      "execution_count": 16,
      "metadata": {
        "colab": {
          "base_uri": "https://localhost:8080/",
          "height": 472
        },
        "id": "ljO9jk91dTK7",
        "outputId": "376ba5a8-9258-4432-c7d6-46f68a04cd87"
      },
      "outputs": [
        {
          "output_type": "display_data",
          "data": {
            "text/plain": [
              "<Figure size 640x480 with 1 Axes>"
            ],
            "image/png": "[encoded data removed]"
          },
          "metadata": {}
        }
      ],
      "source": [
        "# Generate a custom dataset for our logistic regression model\n",
        "\n",
        "# Define dataset parameters\n",
        "n_points = 400  # num of points in generated data\n",
        "max_coordinate_value = (\n",
        "    100  # max possible value taken by the x or y coordinate of a point\n",
        ")\n",
        "\n",
        "# Generate random 2D points\n",
        "points = np.random.rand(n_points, 2) * max_coordinate_value\n",
        "\n",
        "# Define a sinusoidal boundary for classification\n",
        "boundary = np.sin(2 * math.pi * (points[:, 0] / max_coordinate_value))\n",
        "boundary = (boundary * 0.3 * max_coordinate_value) + (max_coordinate_value / 2)\n",
        "\n",
        "\n",
        "# Classify points based on their position relative to the boundary\n",
        "mask = points[:, 1] > boundary  # True if above boundary, False otherwise\n",
        "labels = np.zeros(n_points)  # Initialize all labels as 0\n",
        "labels[mask] = 1  # Assign label 1 to points above the boundary\n",
        "\n",
        "# Create a divider line for visualization purposes only (not used in the model)\n",
        "divider = 30 * np.sin( 2 * math.pi * np.linspace(0, max_coordinate_value, max_coordinate_value) / max_coordinate_value)\n",
        "divider += max_coordinate_value / 2\n",
        "\n",
        "\n",
        "# Plot the points and the divider\n",
        "plt.plot(\n",
        "    points[mask][:, 0], points[mask][:, 1], \"ro\", label=\"Class 1\"\n",
        ")  # Points above boundary\n",
        "plt.plot(\n",
        "    points[~mask][:, 0], points[~mask][:, 1], \"bo\", label=\"Class 0\"\n",
        ")  # Points below boundary\n",
        "plt.plot(divider, label=\"Decision Boundary\")  # The sinusoidal boundary for reference\n",
        "\n",
        "# Add plot labels and show the plot\n",
        "plt.legend()\n",
        "plt.title(\"Custom Dataset for Logistic Regression\")\n",
        "plt.xlabel(\"X-coordinate\")\n",
        "plt.ylabel(\"Y-coordinate\")\n",
        "plt.show()"
      ]
    },
    {
      "cell_type": "markdown",
      "metadata": {
        "id": "_b46sRVX2ycu"
      },
      "source": [
        "## Adding Intercept Column for Logistic Regression\n",
        "\n",
        "### Purpose:\n",
        "- Logistic regression requires a bias term (intercept) for better flexibility in separating classes.\n",
        "- Adding a column of `1s` to the features (`X`) allows the model to learn this bias."
      ]
    },
    {
      "cell_type": "code",
      "execution_count": 17,
      "metadata": {
        "colab": {
          "base_uri": "https://localhost:8080/"
        },
        "id": "wr5MMaz3eDRd",
        "outputId": "49dc599a-47ac-4816-9a2c-14ad22dcb480"
      },
      "outputs": [
        {
          "output_type": "stream",
          "name": "stdout",
          "text": [
            "Current X shape: (400, 2)\n",
            "New X shape: (400, 3). Extra col added for intercept value\n"
          ]
        }
      ],
      "source": [
        "# rename to X and y.\n",
        "\n",
        "X = points  # features {(x, y) coordinates}\n",
        "y = labels  # targets (0 or 1)\n",
        "\n",
        "# Display the current shape of X\n",
        "print(f\"Current X shape: {X.shape}\")\n",
        "\n",
        "# Add an intercept column (column of 1s) for the bias term\n",
        "intercept_col = np.ones(X.shape[0])  # Create a column of 1s with the same number of samples as X\n",
        "X = np.column_stack((X, intercept_col))  # Add the column to X\n",
        "\n",
        "# Display the new shape of X\n",
        "print(f\"New X shape: {X.shape}. Extra col added for intercept value\")"
      ]
    },
    {
      "cell_type": "markdown",
      "metadata": {
        "id": "Ehy4g7N_2ycv"
      },
      "source": [
        "## Running Optimization for Logistic Regression\n",
        "\n",
        "- Perform gradient descent to optimize weights (`theta`) for logistic regression."
      ]
    },
    {
      "cell_type": "code",
      "execution_count": 18,
      "metadata": {
        "colab": {
          "base_uri": "https://localhost:8080/",
          "height": 489
        },
        "id": "ABm_5YOMrRgC",
        "outputId": "01a097c4-5917-4d8b-d0c1-2bfa57e0a839"
      },
      "outputs": [
        {
          "output_type": "stream",
          "name": "stderr",
          "text": [
            "100%|██████████| 30000/30000 [00:02<00:00, 11323.82it/s]\n"
          ]
        },
        {
          "output_type": "display_data",
          "data": {
            "text/plain": [
              "<Figure size 640x480 with 1 Axes>"
            ],
            "image/png": "[encoded data removed]"
          },
          "metadata": {}
        }
      ],
      "source": [
        "# Run Optimization\n",
        "\n",
        "# Set hyperparameters\n",
        "lr = 1e-3  # learning rate\n",
        "num_iters = 30000  # number of iterations\n",
        "\n",
        "# Run gradient descent to get optimized weights\n",
        "weights = log_reg_gradient_descent(X, y, lr, num_iters)  # get optimized weights"
      ]
    },
    {
      "cell_type": "code",
      "execution_count": 19,
      "metadata": {
        "colab": {
          "base_uri": "https://localhost:8080/"
        },
        "id": "pjmrIjhltn83",
        "outputId": "97a35842-5be9-4896-a1bc-4093e9a64f2c"
      },
      "outputs": [
        {
          "output_type": "stream",
          "name": "stdout",
          "text": [
            "Optimized weights: [ 0.01116359  0.04522017 -2.58005656]\n"
          ]
        }
      ],
      "source": [
        "# Display the optimized weights (coefficients) for the model\n",
        "print(f\"Optimized weights: {weights}\")"
      ]
    },
    {
      "cell_type": "markdown",
      "metadata": {
        "id": "idka-85B2ycw"
      },
      "source": [
        "## Evaluating Model Accuracy\n",
        "\n",
        "- Calculate predictions using the optimized weights (`weights`).\n",
        "- Evaluate the accuracy of the logistic regression model by comparing predictions to actual labels."
      ]
    },
    {
      "cell_type": "code",
      "execution_count": 20,
      "metadata": {
        "colab": {
          "base_uri": "https://localhost:8080/"
        },
        "id": "J5lir5bOrHbU",
        "outputId": "54f6f9ed-5ecf-48f4-b6e8-3037b3e7b9e1"
      },
      "outputs": [
        {
          "output_type": "stream",
          "name": "stdout",
          "text": [
            "The model predicted 335 out of 400 predictions correctly\n",
            "The Accuracy is 0.8375 (83.75%)\n"
          ]
        }
      ],
      "source": [
        "# Predict using the optimized weights\n",
        "y_pred = sigmoid(np.dot(X, weights))  # Compute predicted probabilities (0 to 1)\n",
        "y_pred = np.round(y_pred)  # Convert probabilities to binary labels (0 or 1)\n",
        "\n",
        "# Display the predicted labels and true labels for comparison\n",
        "correct_mask = (\n",
        "    y_pred == y\n",
        ")  # Mask of correct predictions (True for correct, False for incorrect)\n",
        "correct_count = correct_mask.sum()  # Count of correct predictions (True values)\n",
        "total_count = len(y_pred)  # Total number of predictions\n",
        "\n",
        "# Print accuracy of the model\n",
        "print(f\"The model predicted {correct_count} out of {total_count} predictions correctly\")\n",
        "print(f\"The Accuracy is {correct_count/total_count} ({correct_count/total_count*100}%)\")"
      ]
    },
    {
      "cell_type": "markdown",
      "metadata": {
        "id": "bT8Al3_D2ycw"
      },
      "source": [
        "## Visualizing Model Predictions\n",
        "\n",
        "- Visualize the predictions of the logistic regression model.\n",
        "- Highlight correctly and incorrectly predicted points."
      ]
    },
    {
      "cell_type": "code",
      "execution_count": 21,
      "metadata": {
        "colab": {
          "base_uri": "https://localhost:8080/",
          "height": 430
        },
        "id": "JjCBoT1Yy_Pq",
        "outputId": "f96ef53b-7609-4fa5-87d5-84b11f49fcb0"
      },
      "outputs": [
        {
          "output_type": "display_data",
          "data": {
            "text/plain": [
              "<Figure size 640x480 with 1 Axes>"
            ],
            "image/png": "[encoded data removed]"
          },
          "metadata": {}
        }
      ],
      "source": [
        "# Plot the data and the decision boundary for the logistic regression model with optimized weights\n",
        "plt.plot(\n",
        "    X[correct_mask][:, 0], X[correct_mask][:, 1], \"go\", label=\"Predicted correctly\"\n",
        ")  # Plot points with correct predictions\n",
        "plt.plot(\n",
        "    X[~correct_mask][:, 0], X[~correct_mask][:, 1], \"ro\", label=\"Predicted in-correctly\"\n",
        ")  # Plot points with incorrect predictions\n",
        "\n",
        "# Add legend and display the plot\n",
        "plt.legend()\n",
        "plt.show()"
      ]
    },
    {
      "cell_type": "markdown",
      "metadata": {
        "id": "9t8FT0oF2ycx"
      },
      "source": [
        "---\n",
        "---\n",
        "---"
      ]
    },
    {
      "cell_type": "markdown",
      "metadata": {
        "id": "RwXZL9jFjG7M"
      },
      "source": [
        "### Understanding the Confusion Matrix\n",
        "\n",
        "Before we move on, let's also take a look at confusion matrix\n",
        "\n",
        "The **confusion matrix** is a way to summarize the performance of a classification model. It shows the following structure:\n",
        "\n",
        "|                | Predicted Positive | Predicted Negative |\n",
        "|----------------|---------------------|---------------------|\n",
        "| **Actual Positive** | True Positive (TP)      | False Negative (FN)     |\n",
        "| **Actual Negative** | False Positive (FP)     | True Negative (TN)      |\n",
        "\n",
        "Each term means the following:\n",
        "\n",
        "- **True Positive (TP):** Number of actual positive labels correctly predicted as positive.\n",
        "- **False Positive (FP):** Number of actual negative labels incorrectly predicted as positive.\n",
        "- **False Negative (FN):** Number of actual positive labels incorrectly predicted as negative.\n",
        "- **True Negative (TN):** Number of actual negative labels correctly predicted as negative.\n"
      ]
    },
    {
      "cell_type": "code",
      "execution_count": 22,
      "metadata": {
        "colab": {
          "base_uri": "https://localhost:8080/",
          "height": 472
        },
        "id": "vN5pYF2Z2ycx",
        "outputId": "e5e67f08-8b30-4d94-e933-954a57331245"
      },
      "outputs": [
        {
          "output_type": "display_data",
          "data": {
            "text/plain": [
              "<Figure size 640x480 with 2 Axes>"
            ],
            "image/png": "[encoded data removed]"
          },
          "metadata": {}
        }
      ],
      "source": [
        "# Import necessary library for displaying the confusion matrix\n",
        "from sklearn.metrics import confusion_matrix, ConfusionMatrixDisplay\n",
        "\n",
        "# Generate the confusion matrix\n",
        "cm = confusion_matrix(y, y_pred)\n",
        "\n",
        "# Display the confusion matrix with labels for better understanding\n",
        "ConfusionMatrixDisplay(confusion_matrix=cm, display_labels=[\"Negative\", \"Positive\"]).plot()\n",
        "\n",
        "# Add a title for clarity\n",
        "plt.title(\"Confusion Matrix\")\n",
        "plt.show()"
      ]
    },
    {
      "cell_type": "code",
      "execution_count": 23,
      "metadata": {
        "colab": {
          "base_uri": "https://localhost:8080/"
        },
        "id": "jQGK80gxjNt7",
        "outputId": "a39e6bbb-0a9c-4385-d03d-a891040c7494"
      },
      "outputs": [
        {
          "output_type": "execute_result",
          "data": {
            "text/plain": [
              "array([[158,  46],\n",
              "       [ 19, 177]])"
            ]
          },
          "metadata": {},
          "execution_count": 23
        }
      ],
      "source": [
        "# the following line should be enough to get the confusion matrix if you want to keep it simple\n",
        "confusion_matrix(y, y_pred)"
      ]
    },
    {
      "cell_type": "markdown",
      "metadata": {
        "id": "6Qn31b6zymHB"
      },
      "source": [
        "---\n",
        "\n",
        "## Sklearn Implementation\n",
        "\n",
        "Let's implement logistic regression on a famous dataset, the **Iris dataset**.\n",
        "\n",
        "\n",
        "### About the Iris Dataset\n",
        "\n",
        "The Iris dataset is used for classifying flowers based on the measurements of their parts.\n",
        "\n",
        "- **Features**: Petal and sepal length and width.\n",
        "- **Target**: The flower species.\n",
        "\n",
        "Although the dataset has more than 3 classes, we'll simplify the task by selecting one class and predicting **whether a flower belongs to that class or not** (binary classification).\n",
        "\n",
        "\n",
        "### Train-Test Split\n",
        "\n",
        "To evaluate our model, we'll split the data into two parts:\n",
        "\n",
        "- **Training Data**: Used to train the model.\n",
        "- **Test Data**: Used to assess how well the model generalizes to unseen data.\n",
        "\n",
        "This practice helps us avoid overfitting and ensures the model performs well on new inputs."
      ]
    },
    {
      "cell_type": "code",
      "execution_count": 25,
      "metadata": {
        "colab": {
          "base_uri": "https://localhost:8080/"
        },
        "id": "NADaK7QKxr5m",
        "outputId": "03c832b9-701f-4b3f-c376-34d235ec2b09"
      },
      "outputs": [
        {
          "output_type": "stream",
          "name": "stdout",
          "text": [
            "Keys in the Iris dataset: ['data', 'target', 'frame', 'target_names', 'DESCR', 'feature_names', 'filename', 'data_module']\n",
            "\n",
            "Features (flower measurements): ['sepal length (cm)', 'sepal width (cm)', 'petal length (cm)', 'petal width (cm)']\n",
            "\n",
            "Target classes (flower species): ['setosa' 'versicolor' 'virginica']\n",
            "\n"
          ]
        }
      ],
      "source": [
        "# Import the necessary library\n",
        "from sklearn.datasets import load_iris # iris is a dataset about flowers\n",
        "\n",
        "# Load the Iris dataset\n",
        "iris_data = (load_iris())  # This function returns a dictionary-like object containing the dataset\n",
        "\n",
        "# Print the keys of the dataset to understand its structure\n",
        "print(f\"Keys in the Iris dataset: {list(iris_data.keys())}\\n\")\n",
        "\n",
        "# Display the features (input variables) and target (class labels)\n",
        "print(f\"Features (flower measurements): {iris_data['feature_names']}\\n\")\n",
        "print(f\"Target classes (flower species): {iris_data['target_names']}\\n\")"
      ]
    },
    {
      "cell_type": "code",
      "execution_count": 36,
      "metadata": {
        "id": "OnPX7FuB1eMN",
        "outputId": "3f66e182-dc13-41f0-9788-a0ad672fe77d",
        "colab": {
          "base_uri": "https://localhost:8080/"
        }
      },
      "outputs": [
        {
          "output_type": "stream",
          "name": "stdout",
          "text": [
            "Feature matrix shape (X): (150, 4)\n",
            "Target vector shape (y): (150,)\n",
            "\n",
            "First 5 rows of shuffled features (X):\n",
            "[[6.7 3.1 4.4 1.4]\n",
            " [5.  3.5 1.3 0.3]\n",
            " [4.4 3.  1.3 0.2]\n",
            " [5.4 3.9 1.7 0.4]\n",
            " [6.1 2.8 4.  1.3]]\n",
            "First 5 shuffled target values (y): [1 0 0 0 1]\n"
          ]
        }
      ],
      "source": [
        "# Those are the given details. We're  concerned about 'data' (containing features of flowers) and target (containing classes)\n",
        "\n",
        "import numpy as np\n",
        "\n",
        "# Extract features (X) and target classes (y) from the dataset\n",
        "X = np.array(iris_data[\"data\"])  # Features: Measurements of flowers\n",
        "y = np.array(iris_data[\"target\"])  # Target: Class labels of flowers\n",
        "\n",
        "# Display the initial shape of X and y for context\n",
        "print(f\"Feature matrix shape (X): {X.shape}\")\n",
        "print(f\"Target vector shape (y): {y.shape}\\n\")\n",
        "\n",
        "# Note: The data is sorted by class labels in y. We need to shuffle it for better training and testing.\n",
        "\n",
        "# Generate a list of indices corresponding to the dataset\n",
        "shuffled_idxs = list(range(len(y)))\n",
        "\n",
        "# Shuffle the indices to randomize the data\n",
        "np.random.shuffle(shuffled_idxs)\n",
        "\n",
        "# Rearrange X and y based on the shuffled indices, we shuffled to make sure that all sort of data arre see\n",
        "X = X[shuffled_idxs]\n",
        "y = y[shuffled_idxs]\n",
        "\n",
        "# Verify the data has been shuffled\n",
        "print(f\"First 5 rows of shuffled features (X):\\n{X[:5]}\")\n",
        "print(f\"First 5 shuffled target values (y): {y[:5]}\")"
      ]
    },
    {
      "cell_type": "code",
      "execution_count": 27,
      "metadata": {
        "colab": {
          "base_uri": "https://localhost:8080/"
        },
        "id": "ZA0TCZxV5TFL",
        "outputId": "4e8d8f9f-206d-410b-ae66-e5522215c1fa"
      },
      "outputs": [
        {
          "output_type": "execute_result",
          "data": {
            "text/plain": [
              "array([0, 1, 0, 2, 1, 2, 0, 2, 1, 0, 2, 2, 2, 1, 2, 2, 2, 0, 0, 2, 0, 0,\n",
              "       2, 1, 0, 2, 0, 0, 2, 1, 1, 1, 0, 0, 0, 1, 2, 2, 2, 1, 1, 1, 0, 1,\n",
              "       2, 0, 1, 1, 2, 2, 1, 1, 0, 0, 1, 2, 0, 2, 1, 1, 2, 1, 2, 1, 1, 0,\n",
              "       1, 1, 0, 1, 0, 0, 0, 2, 2, 0, 2, 1, 0, 2, 2, 2, 0, 2, 2, 1, 1, 2,\n",
              "       2, 2, 2, 0, 2, 1, 2, 2, 0, 2, 0, 1, 0, 0, 1, 0, 1, 2, 1, 2, 2, 0,\n",
              "       1, 1, 2, 1, 0, 0, 2, 1, 1, 2, 2, 2, 0, 1, 0, 0, 0, 0, 0, 1, 1, 1,\n",
              "       0, 1, 0, 0, 2, 2, 1, 2, 1, 0, 0, 1, 0, 0, 1, 1, 0, 1])"
            ]
          },
          "metadata": {},
          "execution_count": 27
        }
      ],
      "source": [
        "y"
      ]
    },
    {
      "cell_type": "code",
      "execution_count": 28,
      "metadata": {
        "colab": {
          "base_uri": "https://localhost:8080/"
        },
        "id": "oOBF0SsG23aL",
        "outputId": "441c7a43-a6d5-4a8b-fa28-1c4db9ac07ab"
      },
      "outputs": [
        {
          "output_type": "stream",
          "name": "stdout",
          "text": [
            "Feature matrix shape (X): (150, 4) -----> (Rows: 150, Columns: 4)\n",
            "Target vector shape (y): (150,) -----> (Total samples: 150)\n",
            "\n",
            "Unique class labels in the target (y): [0 1 2]\n"
          ]
        }
      ],
      "source": [
        "# Display the shape of the features matrix and target vector\n",
        "print(\n",
        "    f\"Feature matrix shape (X): {X.shape} -----> (Rows: {X.shape[0]}, Columns: {X.shape[1]})\"\n",
        ")\n",
        "print(f\"Target vector shape (y): {y.shape} -----> (Total samples: {y.shape[0]})\\n\")\n",
        "\n",
        "# Display the unique class labels in the target vector\n",
        "unique_classes = np.unique(y)\n",
        "print(f\"Unique class labels in the target (y): {unique_classes}\")"
      ]
    },
    {
      "cell_type": "code",
      "execution_count": 29,
      "metadata": {
        "id": "wkN_5zsp3BL7",
        "outputId": "5575eec2-c8b5-48d5-b20a-85e8fb629085",
        "colab": {
          "base_uri": "https://localhost:8080/"
        }
      },
      "outputs": [
        {
          "output_type": "stream",
          "name": "stdout",
          "text": [
            "Unique class labels in the target (y) after transformation: [0 1]\n",
            "First 10 target values (y): [1 0 1 0 0 0 1 0 0 1]\n"
          ]
        }
      ],
      "source": [
        "# The next step after getting your hands on a dataset might normally be EDA, but we'll skip that.\n",
        "\n",
        "# Prepare the target vector for binary classification\n",
        "# The task: Predict if a flower is \"Setosa\" (class 0) or not.\n",
        "\n",
        "# Step 1: Temporarily assign a placeholder value (-1) to 'Setosa' class (class 0)\n",
        "y[y == 0] = -1  # Replace Setosa class (0) with -1 for clarity during transformations\n",
        "\n",
        "# Step 2: Convert all non-Setosa classes (classes 1 and 2) to 0\n",
        "y[y > 0] = 0  # Flowers that are not Setosa are now labeled as 0\n",
        "\n",
        "# Step 3: Convert the placeholder value (-1) back to 1 for the Setosa class\n",
        "y[y == -1] = 1  # Flowers that are Setosa are now labeled as 1\n",
        "\n",
        "# hence it's a binary problem\n",
        "\n",
        "# Verify the transformation\n",
        "print(f\"Unique class labels in the target (y) after transformation: {np.unique(y)}\")\n",
        "print(f\"First 10 target values (y): {y[:10]}\")"
      ]
    },
    {
      "cell_type": "code",
      "execution_count": 30,
      "metadata": {
        "colab": {
          "base_uri": "https://localhost:8080/"
        },
        "id": "ao3NhAzN5Ucm",
        "outputId": "0358762b-4b7b-4359-fc93-00ad7580abb6"
      },
      "outputs": [
        {
          "output_type": "execute_result",
          "data": {
            "text/plain": [
              "array([1, 0, 1, 0, 0, 0, 1, 0, 0, 1, 0, 0, 0, 0, 0, 0, 0, 1, 1, 0, 1, 1,\n",
              "       0, 0, 1, 0, 1, 1, 0, 0, 0, 0, 1, 1, 1, 0, 0, 0, 0, 0, 0, 0, 1, 0,\n",
              "       0, 1, 0, 0, 0, 0, 0, 0, 1, 1, 0, 0, 1, 0, 0, 0, 0, 0, 0, 0, 0, 1,\n",
              "       0, 0, 1, 0, 1, 1, 1, 0, 0, 1, 0, 0, 1, 0, 0, 0, 1, 0, 0, 0, 0, 0,\n",
              "       0, 0, 0, 1, 0, 0, 0, 0, 1, 0, 1, 0, 1, 1, 0, 1, 0, 0, 0, 0, 0, 1,\n",
              "       0, 0, 0, 0, 1, 1, 0, 0, 0, 0, 0, 0, 1, 0, 1, 1, 1, 1, 1, 0, 0, 0,\n",
              "       1, 0, 1, 1, 0, 0, 0, 0, 0, 1, 1, 0, 1, 1, 0, 0, 1, 0])"
            ]
          },
          "metadata": {},
          "execution_count": 30
        }
      ],
      "source": [
        "y  # 0 is replaced with 1 and non-0 are now 0"
      ]
    },
    {
      "cell_type": "markdown",
      "metadata": {
        "id": "GMi0wkNS2yc0"
      },
      "source": [
        "### Explanation of `train_test_split`\n",
        "\n",
        "The `train_test_split` function is used to divide a dataset into two parts: **training data** and **testing data**. This separation ensures the model is trained on one set of data and evaluated on another, helping to assess its generalization to unseen data.\n",
        "\n",
        "\n",
        "#### Key Parameters of `train_test_split`:\n",
        "1. **`stratify`**:\n",
        "   - Ensures the specified column (e.g., `y`) has the same proportion of each class in both the training and testing sets.\n",
        "   - In our example:\n",
        "     - If 1/3 of the total data belongs to class `1` and 2/3 belongs to class `0`, stratifying by `y` ensures this ratio is maintained in both `y_train` and `y_test`.\n",
        "\n",
        "2. **`random_state`**:\n",
        "   - Ensures reproducibility by controlling the random number generator used to split the data.\n",
        "   - Using the same `random_state` ensures the split is the same every time you run the code.\n",
        "\n",
        "3. **`train_size`**:\n",
        "   - Specifies how much of the data should be used for training.\n",
        "   - In our example, `train_size=0.7` means 70% of the data is used for training, and the remaining 30% is used for testing.\n"
      ]
    },
    {
      "cell_type": "code",
      "execution_count": 31,
      "metadata": {
        "id": "G8v1fhNH-DcZ"
      },
      "outputs": [],
      "source": [
        "X_train, X_test, y_train, y_test = train_test_split(\n",
        "    X, y, stratify=y, random_state=123, train_size=0.7\n",
        ")"
      ]
    },
    {
      "cell_type": "code",
      "execution_count": 32,
      "metadata": {
        "id": "ncBwfD7Z2yc0",
        "outputId": "dceaaa46-ba1c-4b96-8f3c-01b23ca76425",
        "colab": {
          "base_uri": "https://localhost:8080/"
        }
      },
      "outputs": [
        {
          "output_type": "stream",
          "name": "stdout",
          "text": [
            "Training feature matrix shape (X_train): (105, 4)\n",
            "Testing feature matrix shape (X_test): (45, 4)\n",
            "------------------------------\n",
            "Training target vector shape (y_train): (105,)\n",
            "Testing target vector shape (y_test): (45,)\n",
            "\n",
            "Class distribution in training set (y_train): [70 35]\n",
            "Class distribution in testing set (y_test): [30 15]\n"
          ]
        }
      ],
      "source": [
        "# Verify the shapes of the resulting datasets\n",
        "print(f\"Training feature matrix shape (X_train): {X_train.shape}\")\n",
        "print(f\"Testing feature matrix shape (X_test): {X_test.shape}\")\n",
        "print(\"-\" * 30)\n",
        "print(f\"Training target vector shape (y_train): {y_train.shape}\")\n",
        "print(f\"Testing target vector shape (y_test): {y_test.shape}\\n\")\n",
        "\n",
        "# Verify the class distribution in the training and testing sets\n",
        "print(f\"Class distribution in training set (y_train): {np.bincount(y_train)}\")\n",
        "print(f\"Class distribution in testing set (y_test): {np.bincount(y_test)}\")"
      ]
    },
    {
      "cell_type": "markdown",
      "metadata": {
        "id": "cb9OuHLo2yc0"
      },
      "source": [
        "---\n",
        "\n",
        "### Training the Logistic Regression Model\n",
        "\n",
        "In this section, we will train a **Logistic Regression model** using the training data.\n",
        "\n",
        "#### Steps:\n",
        "1. **Model Initialization**:\n",
        "   - We will create an instance of the `LogisticRegression` class, which represents our logistic regression model.\n",
        "\n",
        "2. **Training the Model**:\n",
        "   - Using the `fit` method, we will train the model on the **training data** (`X_train` and `y_train`).\n",
        "   - During this process, the model learns the relationship between the features (`X_train`) and the target labels (`y_train`).\n",
        "\n",
        "#### Key Points:\n",
        "- Training is performed only on the **training data** to ensure the model is evaluated on unseen data (`X_test`).\n",
        "- After training, the model will be ready to make predictions on new or unseen data.\n",
        "\n"
      ]
    },
    {
      "cell_type": "code",
      "execution_count": 34,
      "metadata": {
        "colab": {
          "base_uri": "https://localhost:8080/"
        },
        "id": "5yzIzmqs5UtV",
        "outputId": "52d14ebe-5cec-4dd7-a161-14e477cffb28"
      },
      "outputs": [
        {
          "output_type": "stream",
          "name": "stdout",
          "text": [
            "Model trained successfully!\n",
            "Model coefficients (weights): [[-0.39370026  0.86248747 -2.1410159  -0.90599045]]\n",
            "Model intercept: [5.99698491]\n"
          ]
        }
      ],
      "source": [
        "# Step 1: Initialize the Logistic Regression model\n",
        "model = LogisticRegression()\n",
        "\n",
        "# Step 2: Train the model using the training data\n",
        "model.fit(X_train, y_train)  # we train on training data only\n",
        "\n",
        "# Verify training success by displaying model coefficients and intercept\n",
        "print(\"Model trained successfully!\")\n",
        "print(f\"Model coefficients (weights): {model.coef_}\")\n",
        "print(f\"Model intercept: {model.intercept_}\")"
      ]
    },
    {
      "cell_type": "code",
      "execution_count": 35,
      "metadata": {
        "id": "2dBML2Fh5tVx",
        "outputId": "3cd7de97-3be5-4119-b648-b3642fe5ae72",
        "colab": {
          "base_uri": "https://localhost:8080/"
        }
      },
      "outputs": [
        {
          "output_type": "stream",
          "name": "stdout",
          "text": [
            "First 10 predicted labels: [0 0 1 1 0 0 0 0 0 1]\n",
            "First 10 actual labels:    [0 0 1 1 0 0 0 0 0 1]\n",
            "Shape of predicted labels (y_pred): (45,)\n"
          ]
        }
      ],
      "source": [
        "# Step 1: Use the trained model to make predictions on the test data\n",
        "y_pred = model.predict(X_test)\n",
        "\n",
        "# Step 2: Display the first few predictions for verification\n",
        "print(f\"First 10 predicted labels: {y_pred[:10]}\")\n",
        "print(f\"First 10 actual labels:    {y_test[:10]}\")\n",
        "\n",
        "# Step 3: Verify the shape of the predictions to ensure it matches the test data\n",
        "print(f\"Shape of predicted labels (y_pred): {y_pred.shape}\")"
      ]
    },
    {
      "cell_type": "code",
      "execution_count": 37,
      "metadata": {
        "colab": {
          "base_uri": "https://localhost:8080/"
        },
        "id": "nB_91KQB50WQ",
        "outputId": "e3d9a695-f44d-4003-fc32-5d12192bff3f"
      },
      "outputs": [
        {
          "output_type": "stream",
          "name": "stdout",
          "text": [
            "The model predicted 45 out of 45 correctly.\n",
            "Accuracy: 1.00 -----> (100.00%)\n"
          ]
        }
      ],
      "source": [
        "# Step 1: Compare predictions with actual labels\n",
        "# Create a boolean mask where predictions match the actual test labels\n",
        "correct_mask = y_pred == y_test\n",
        "\n",
        "# Step 2: Calculate the number of correct predictions\n",
        "correct_count = correct_mask.sum()\n",
        "\n",
        "# Step 3: Calculate the total number of predictions\n",
        "total_count = len(y_pred)\n",
        "\n",
        "# Step 4: Compute the accuracy\n",
        "accuracy = correct_count / total_count\n",
        "\n",
        "# Step 5: Display the results\n",
        "print(f\"The model predicted {correct_count} out of {total_count} correctly.\")\n",
        "print(f\"Accuracy: {accuracy:.2f} -----> ({accuracy*100:.2f}%)\")"
      ]
    },
    {
      "cell_type": "code",
      "execution_count": 38,
      "metadata": {
        "colab": {
          "base_uri": "https://localhost:8080/",
          "height": 472
        },
        "id": "DWWM9dxDLvI4",
        "outputId": "5e8d2107-5bdd-4f37-8937-1436ad38e8d8"
      },
      "outputs": [
        {
          "output_type": "display_data",
          "data": {
            "text/plain": [
              "<Figure size 640x480 with 2 Axes>"
            ],
            "image/png": "[encoded data removed]"
          },
          "metadata": {}
        }
      ],
      "source": [
        "# Import necessary library for displaying the confusion matrix\n",
        "from sklearn.metrics import confusion_matrix, ConfusionMatrixDisplay\n",
        "\n",
        "# Generate the confusion matrix\n",
        "cm = confusion_matrix(y_test, y_pred)\n",
        "\n",
        "# Display the confusion matrix with labels for better understanding\n",
        "ConfusionMatrixDisplay(\n",
        "    confusion_matrix=cm, display_labels=[\"Negative\", \"Positive\"]\n",
        ").plot()\n",
        "\n",
        "# Add a title for clarity\n",
        "plt.title(\"Confusion Matrix\")\n",
        "plt.show()"
      ]
    },
    {
      "cell_type": "markdown",
      "metadata": {
        "id": "O9scTtqc2yc6"
      },
      "source": [
        "---\n",
        "\n",
        "# Summary\n",
        "\n",
        "- **What is Logistic Regression?**\n",
        "  - Logistic regression is used for classification problems, predicting discrete outcomes based on input features.\n",
        "  - It outputs probabilities to classify data into categories.\n",
        "\n",
        "- **Core Concepts Explained:**\n",
        "  - **Cost Function:** How the model evaluates its predictions and improves during training.\n",
        "  - **Optimization:** Techniques like gradient descent used to minimize the cost function.\n",
        "\n",
        "- **Practical Implementations:**\n",
        "  - Building logistic regression from scratch using Python.\n",
        "  - Adding intercept columns and running optimization for better model performance.\n",
        "  - Visualizing decision boundaries to understand classification.\n",
        "\n",
        "- **Evaluating Model Performance:**\n",
        "  - Metrics like accuracy, confusion matrix, and loss functions.\n",
        "  - Understanding how to interpret model results.\n",
        "\n",
        "- **Using Sklearn for Logistic Regression:**\n",
        "  - Applying logistic regression on the Iris dataset.\n",
        "  - Splitting data into training and testing sets with `train_test_split`.\n",
        "  - Training and evaluating models with a practical, hands-on approach.\n",
        "\n",
        "- **Visualization:**\n",
        "  - Graphical representation of predictions and decision boundaries.\n",
        "  - Insights into model behavior through plots and metrics.\n"
      ]
    }
  ],
  "metadata": {
    "colab": {
      "provenance": [],
      "include_colab_link": true
    },
    "kernelspec": {
      "display_name": "KAUST_AI",
      "language": "python",
      "name": "python3"
    },
    "language_info": {
      "codemirror_mode": {
        "name": "ipython",
        "version": 3
      },
      "file_extension": ".py",
      "mimetype": "text/x-python",
      "name": "python",
      "nbconvert_exporter": "python",
      "pygments_lexer": "ipython3",
      "version": "3.9.19"
    }
  },
  "nbformat": 4,
  "nbformat_minor": 0
}